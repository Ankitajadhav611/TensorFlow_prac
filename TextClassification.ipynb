{
  "nbformat": 4,
  "nbformat_minor": 0,
  "metadata": {
    "colab": {
      "name": "TextClassification.ipynb",
      "provenance": [],
      "authorship_tag": "ABX9TyMozarCzpqQr95cDBeWSMPT",
      "include_colab_link": true
    },
    "kernelspec": {
      "name": "python3",
      "display_name": "Python 3"
    }
  },
  "cells": [
    {
      "cell_type": "markdown",
      "metadata": {
        "id": "view-in-github",
        "colab_type": "text"
      },
      "source": [
        "<a href=\"https://colab.research.google.com/github/Ankitajadhav611/TensorFlow_prac/blob/master/TextClassification.ipynb\" target=\"_parent\"><img src=\"https://colab.research.google.com/assets/colab-badge.svg\" alt=\"Open In Colab\"/></a>"
      ]
    },
    {
      "cell_type": "code",
      "metadata": {
        "id": "tBVbZu89jCMD",
        "colab_type": "code",
        "colab": {
          "base_uri": "https://localhost:8080/",
          "height": 1000
        },
        "outputId": "daab1772-7e31-417e-d114-ab983112f6e8"
      },
      "source": [
        "#!pip freeze\n",
        "\n",
        "#text classifications\n",
        "import tensorflow \n",
        "from tensorflow.keras.preprocessing.text import Tokenizer\n",
        "from tensorflow.keras.preprocessing.sequence import pad_sequences\n",
        "\n",
        "!wget --no-check-certificate \\\n",
        "    https://storage.googleapis.com/laurencemoroney-blog.appspot.com/sarcasm.json \\\n",
        "    -O /tmp/sarcasm.json\n",
        "import json \n",
        "with open(\"/tmp/sarcasm.json\",\"r\") as f:\n",
        "  datastore = json.load(f)\n",
        "sentence = []\n",
        "label = []\n",
        "for f in datastore:\n",
        "  sentence.append(f[\"headline\"])\n",
        "  label.append(f[\"is_sarcastic\"])\n",
        "#splitting the data into the train and test set\n",
        "train_len = 20000\n",
        "train_sentence = sentence[:train_len]\n",
        "test_sentence = sentence[train_len:]\n",
        "train_label = label[:train_len]\n",
        "test_label = label[train_len:]\n",
        "\n",
        "#encode the data \n",
        "vocab_size = 10000\n",
        "embedding_dim = 16\n",
        "max_length = 100\n",
        "trunc_type='post'\n",
        "padding_type='post'\n",
        "oov_tok = \"<OOV>\"\n",
        "tokenizer = Tokenizer(num_words=vocab_size ,oov_token = oov_tok)\n",
        "tokenizer.fit_on_texts(train_sentence)   #fit or train the tokenizer according to the training sentences\n",
        "word_index = tokenizer.word_index       # to store the word_index dictionary into word_index, check to check the word_index value integer \n",
        "\n",
        "train_seq = tokenizer.texts_to_sequences(train_sentence)\n",
        "train_padded = pad_sequences(train_seq, maxlen = max_length , padding = padding_type , truncating=trunc_type)\n",
        "\n",
        "test_seq = tokenizer.texts_to_sequences(test_sentence)\n",
        "test_padded = pad_sequences(test_seq,maxlen= max_length,padding=padding_type,truncating=trunc_type)\n",
        "\n",
        "#coverting the list into numpy array elements\n",
        "import numpy as np\n",
        "train_padded = np.array(train_padded)\n",
        "train_label = np.array(train_label)\n",
        "test_paded = np.array(test_padded)\n",
        "test_label = np.array(test_label)\n",
        "# model creation, three layer\n",
        "model = tensorflow.keras.Sequential([\n",
        "                                     tensorflow.keras.layers.Embedding(vocab_size, embedding_dim, input_length=max_length),\n",
        "                                     tensorflow.keras.layers.GlobalAveragePooling1D(),\n",
        "                                     tensorflow.keras.layers.Dense(24,activation=\"relu\"),\n",
        "                                     tensorflow.keras.layers.Dense(1,activation = \"sigmoid\")\n",
        "])\n",
        "model.compile(loss='binary_crossentropy',optimizer='adam',metrics=['accuracy'])\n",
        "model.summary()\n",
        "# fit the model\n",
        "num_epochs = 30\n",
        "history = model.fit(train_padded,train_label,epochs=num_epochs,validation_data=(test_padded,test_label),verbose=2)\n",
        "#plot the results\n",
        "import matplotlib.pyplot as plt\n",
        "\n",
        "def plot_graphs(history,string):\n",
        "  plt.plot(history.history[string])\n",
        "  plt.plot(history.history['val_'+string])\n",
        "  plt.xlabel('Epochs')\n",
        "  plt.ylabel(string)\n",
        "  plt.legend([string, 'val_'+string])\n",
        "  plt.show()\n",
        "plot_graphs(history, \"accuracy\")\n",
        "plot_graphs(history,'loss')\n",
        "\n"
      ],
      "execution_count": 12,
      "outputs": [
        {
          "output_type": "stream",
          "text": [
            "--2020-09-25 11:27:25--  https://storage.googleapis.com/laurencemoroney-blog.appspot.com/sarcasm.json\n",
            "Resolving storage.googleapis.com (storage.googleapis.com)... 173.194.214.128, 173.194.216.128, 173.194.217.128, ...\n",
            "Connecting to storage.googleapis.com (storage.googleapis.com)|173.194.214.128|:443... connected.\n",
            "HTTP request sent, awaiting response... 200 OK\n",
            "Length: 5643545 (5.4M) [application/json]\n",
            "Saving to: ‘/tmp/sarcasm.json’\n",
            "\n",
            "\r/tmp/sarcasm.json     0%[                    ]       0  --.-KB/s               \r/tmp/sarcasm.json   100%[===================>]   5.38M  --.-KB/s    in 0.03s   \n",
            "\n",
            "2020-09-25 11:27:25 (176 MB/s) - ‘/tmp/sarcasm.json’ saved [5643545/5643545]\n",
            "\n",
            "Model: \"sequential_6\"\n",
            "_________________________________________________________________\n",
            "Layer (type)                 Output Shape              Param #   \n",
            "=================================================================\n",
            "embedding_6 (Embedding)      (None, 100, 16)           160000    \n",
            "_________________________________________________________________\n",
            "global_average_pooling1d_6 ( (None, 16)                0         \n",
            "_________________________________________________________________\n",
            "dense_12 (Dense)             (None, 24)                408       \n",
            "_________________________________________________________________\n",
            "dense_13 (Dense)             (None, 1)                 25        \n",
            "=================================================================\n",
            "Total params: 160,433\n",
            "Trainable params: 160,433\n",
            "Non-trainable params: 0\n",
            "_________________________________________________________________\n",
            "Epoch 1/30\n",
            "625/625 - 2s - loss: 0.6768 - accuracy: 0.5593 - val_loss: 0.6417 - val_accuracy: 0.5633\n",
            "Epoch 2/30\n",
            "625/625 - 2s - loss: 0.4960 - accuracy: 0.7743 - val_loss: 0.4132 - val_accuracy: 0.8316\n",
            "Epoch 3/30\n",
            "625/625 - 2s - loss: 0.3331 - accuracy: 0.8720 - val_loss: 0.3619 - val_accuracy: 0.8487\n",
            "Epoch 4/30\n",
            "625/625 - 2s - loss: 0.2725 - accuracy: 0.8946 - val_loss: 0.3484 - val_accuracy: 0.8545\n",
            "Epoch 5/30\n",
            "625/625 - 2s - loss: 0.2337 - accuracy: 0.9111 - val_loss: 0.3504 - val_accuracy: 0.8530\n",
            "Epoch 6/30\n",
            "625/625 - 2s - loss: 0.2062 - accuracy: 0.9209 - val_loss: 0.3488 - val_accuracy: 0.8545\n",
            "Epoch 7/30\n",
            "625/625 - 2s - loss: 0.1825 - accuracy: 0.9317 - val_loss: 0.3571 - val_accuracy: 0.8541\n",
            "Epoch 8/30\n",
            "625/625 - 2s - loss: 0.1642 - accuracy: 0.9391 - val_loss: 0.3725 - val_accuracy: 0.8545\n",
            "Epoch 9/30\n",
            "625/625 - 2s - loss: 0.1518 - accuracy: 0.9446 - val_loss: 0.3847 - val_accuracy: 0.8521\n",
            "Epoch 10/30\n",
            "625/625 - 2s - loss: 0.1341 - accuracy: 0.9528 - val_loss: 0.3993 - val_accuracy: 0.8538\n",
            "Epoch 11/30\n",
            "625/625 - 2s - loss: 0.1250 - accuracy: 0.9577 - val_loss: 0.4233 - val_accuracy: 0.8468\n",
            "Epoch 12/30\n",
            "625/625 - 2s - loss: 0.1154 - accuracy: 0.9594 - val_loss: 0.4364 - val_accuracy: 0.8483\n",
            "Epoch 13/30\n",
            "625/625 - 2s - loss: 0.1045 - accuracy: 0.9649 - val_loss: 0.4695 - val_accuracy: 0.8396\n",
            "Epoch 14/30\n",
            "625/625 - 2s - loss: 0.0967 - accuracy: 0.9669 - val_loss: 0.4840 - val_accuracy: 0.8423\n",
            "Epoch 15/30\n",
            "625/625 - 2s - loss: 0.0886 - accuracy: 0.9719 - val_loss: 0.5161 - val_accuracy: 0.8390\n",
            "Epoch 16/30\n",
            "625/625 - 2s - loss: 0.0811 - accuracy: 0.9754 - val_loss: 0.5379 - val_accuracy: 0.8319\n",
            "Epoch 17/30\n",
            "625/625 - 2s - loss: 0.0772 - accuracy: 0.9755 - val_loss: 0.5568 - val_accuracy: 0.8374\n",
            "Epoch 18/30\n",
            "625/625 - 2s - loss: 0.0705 - accuracy: 0.9789 - val_loss: 0.5870 - val_accuracy: 0.8344\n",
            "Epoch 19/30\n",
            "625/625 - 2s - loss: 0.0664 - accuracy: 0.9794 - val_loss: 0.6453 - val_accuracy: 0.8162\n",
            "Epoch 20/30\n",
            "625/625 - 2s - loss: 0.0614 - accuracy: 0.9820 - val_loss: 0.6566 - val_accuracy: 0.8292\n",
            "Epoch 21/30\n",
            "625/625 - 2s - loss: 0.0548 - accuracy: 0.9836 - val_loss: 0.6667 - val_accuracy: 0.8284\n",
            "Epoch 22/30\n",
            "625/625 - 2s - loss: 0.0514 - accuracy: 0.9848 - val_loss: 0.6971 - val_accuracy: 0.8265\n",
            "Epoch 23/30\n",
            "625/625 - 2s - loss: 0.0487 - accuracy: 0.9846 - val_loss: 0.7760 - val_accuracy: 0.8192\n",
            "Epoch 24/30\n",
            "625/625 - 2s - loss: 0.0461 - accuracy: 0.9865 - val_loss: 0.7802 - val_accuracy: 0.8213\n",
            "Epoch 25/30\n",
            "625/625 - 2s - loss: 0.0416 - accuracy: 0.9883 - val_loss: 0.7900 - val_accuracy: 0.8211\n",
            "Epoch 26/30\n",
            "625/625 - 2s - loss: 0.0386 - accuracy: 0.9901 - val_loss: 0.8209 - val_accuracy: 0.8193\n",
            "Epoch 27/30\n",
            "625/625 - 2s - loss: 0.0363 - accuracy: 0.9900 - val_loss: 0.9322 - val_accuracy: 0.8168\n",
            "Epoch 28/30\n",
            "625/625 - 2s - loss: 0.0338 - accuracy: 0.9911 - val_loss: 0.9116 - val_accuracy: 0.8174\n",
            "Epoch 29/30\n",
            "625/625 - 2s - loss: 0.0316 - accuracy: 0.9912 - val_loss: 0.9223 - val_accuracy: 0.8168\n",
            "Epoch 30/30\n",
            "625/625 - 2s - loss: 0.0294 - accuracy: 0.9922 - val_loss: 0.9463 - val_accuracy: 0.8100\n"
          ],
          "name": "stdout"
        },
        {
          "output_type": "display_data",
          "data": {
            "image/png": "[encoded data removed]",
            "text/plain": [
              "<Figure size 432x288 with 1 Axes>"
            ]
          },
          "metadata": {
            "tags": [],
            "needs_background": "light"
          }
        },
        {
          "output_type": "display_data",
          "data": {
            "image/png": "[encoded data removed]",
            "text/plain": [
              "<Figure size 432x288 with 1 Axes>"
            ]
          },
          "metadata": {
            "tags": [],
            "needs_background": "light"
          }
        }
      ]
    }
  ]
}