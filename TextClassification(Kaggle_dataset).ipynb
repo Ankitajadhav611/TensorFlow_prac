{
  "nbformat": 4,
  "nbformat_minor": 0,
  "metadata": {
    "colab": {
      "name": "TextClassification(Kaggle dataset).ipynb",
      "provenance": [],
      "authorship_tag": "ABX9TyMwumi2dyP8IJ2lRE5ZQJKT",
      "include_colab_link": true
    },
    "kernelspec": {
      "name": "python3",
      "display_name": "Python 3"
    }
  },
  "cells": [
    {
      "cell_type": "markdown",
      "metadata": {
        "id": "view-in-github",
        "colab_type": "text"
      },
      "source": [
        "<a href=\"https://colab.research.google.com/github/Ankitajadhav611/TensorFlow_prac/blob/master/TextClassification(Kaggle_dataset).ipynb\" target=\"_parent\"><img src=\"https://colab.research.google.com/assets/colab-badge.svg\" alt=\"Open In Colab\"/></a>"
      ]
    },
    {
      "cell_type": "code",
      "metadata": {
        "id": "NDHDlpC08q6L"
      },
      "source": [
        "import json\n",
        "token = {'username': 'username', 'key': 'some_alphabets'}         #use your API for kaggle\n",
        "with open('/content/.kaggle/kaggle.json','w') as file:\n",
        "  json.dump(token,file)\n"
      ],
      "execution_count": 7,
      "outputs": []
    },
    {
      "cell_type": "code",
      "metadata": {
        "id": "KF2j0r87-EQx"
      },
      "source": [
        "!cp /content/.kaggle/kaggle.json ~/.kaggle/kaggle.json\n"
      ],
      "execution_count": 10,
      "outputs": []
    },
    {
      "cell_type": "code",
      "metadata": {
        "id": "bUGgETVN-FgJ",
        "outputId": "42891994-f563-4d53-d675-a188c22c2646",
        "colab": {
          "base_uri": "https://localhost:8080/",
          "height": 51
        }
      },
      "source": [
        "!kaggle config set -n path -v{/content}\n"
      ],
      "execution_count": 11,
      "outputs": [
        {
          "output_type": "stream",
          "text": [
            "Warning: Your Kaggle API key is readable by other users on this system! To fix this, you can run 'chmod 600 /root/.kaggle/kaggle.json'\n",
            "- path is now set to: {/content}\n"
          ],
          "name": "stdout"
        }
      ]
    },
    {
      "cell_type": "code",
      "metadata": {
        "id": "94OzJNdk-K67"
      },
      "source": [
        "!chmod 600 /root/.kaggle/kaggle.json\n"
      ],
      "execution_count": 12,
      "outputs": []
    },
    {
      "cell_type": "code",
      "metadata": {
        "id": "1cZrzXMh-Q-e",
        "outputId": "e83a98b5-ff79-48d5-d37a-0638ae98815e",
        "colab": {
          "base_uri": "https://localhost:8080/",
          "height": 408
        }
      },
      "source": [
        "!kaggle datasets list -s SMS\n"
      ],
      "execution_count": 13,
      "outputs": [
        {
          "output_type": "stream",
          "text": [
            "Warning: Looks like you're using an outdated API Version, please consider updating (server 1.5.6 / client 1.5.4)\n",
            "ref                                                      title                                             size  lastUpdated          downloadCount  \n",
            "-------------------------------------------------------  -----------------------------------------------  -----  -------------------  -------------  \n",
            "uciml/sms-spam-collection-dataset                        SMS Spam Collection Dataset                      211KB  2016-12-02 19:29:17          56366  \n",
            "marcodena/mobile-phone-activity                          Mobile phone activity in a city                  242MB  2019-11-14 06:11:32           9224  \n",
            "shravan3273/sms-spam                                     Sms spam                                         207KB  2018-02-27 05:42:28            570  \n",
            "rtatman/the-national-university-of-singapore-sms-corpus  The National University of Singapore SMS Corpus    4MB  2017-08-07 18:51:58           1952  \n",
            "truocpham/smsspamcollection                              smsspamcollection                                 23KB  2018-05-11 02:22:58            314  \n",
            "mrushan3/spam-sms-classification                         Spam SMS Classification                          209KB  2020-01-31 07:20:44             76  \n",
            "assumewisely/sms-spam-collection                         SMS Spam Collection                              206KB  2018-04-28 17:51:06            365  \n",
            "hdza1991/sms-spam                                        sms_spam.csv                                     209KB  2018-01-22 01:29:05            838  \n",
            "rtatman/120-million-word-spanish-corpus                  120 Million Word Spanish Corpus                  489MB  2017-08-08 20:43:40           1457  \n",
            "rtatman/fraudulent-email-corpus                          Fraudulent E-mail Corpus                           6MB  2017-07-25 18:41:30           4325  \n",
            "vivekchutke/spam-ham-sms-dataset                         Spam / Ham SMS DataSet                           207KB  2017-11-03 13:00:47            442  \n",
            "lampubhutia/email-spam-ham-prediction                    SMS_ Spam_Ham_Prediction                         209KB  2019-04-27 04:27:17            203  \n",
            "uds5501/sms-dataset                                      SMS dataset                                        9KB  2018-01-14 06:54:49            225  \n",
            "tunguz/motor-carrier-safety-measurement-system           Motor Carrier Safety Measurement System            5MB  2019-11-14 19:33:30              9  \n",
            "coolkaggleuser/sms-spam-collection-data-set              SMS Spam Collection Data Set                     418KB  2018-05-29 20:48:34            293  \n",
            "rohitanil/spam-sms                                       Spam SMS                                         211KB  2018-03-26 08:28:43             89  \n",
            "dm8typrogrammer/sms-spam                                 sms spam                                         206KB  2020-02-25 11:30:10              8  \n",
            "patil4444/filtering-mobile-phone-spam                    Filtering mobile phone spam                      207KB  2018-03-14 17:45:55            386  \n",
            "leoarruda/documents                                      Dataset of SMS messages                          221KB  2017-10-24 19:00:09            279  \n",
            "mrlucasfischer/bertembedded-spam-messages                BERT-Embedded Spam messages                       20MB  2019-12-18 17:33:35            120  \n"
          ],
          "name": "stdout"
        }
      ]
    },
    {
      "cell_type": "code",
      "metadata": {
        "id": "eMFdkIKO_qom",
        "outputId": "da6903c7-c796-4615-87a7-3b5e0a85cbaa",
        "colab": {
          "base_uri": "https://localhost:8080/",
          "height": 68
        }
      },
      "source": [
        "!kaggle datasets download -d lampubhutia/email-spam-ham-prediction -p/content"
      ],
      "execution_count": 14,
      "outputs": [
        {
          "output_type": "stream",
          "text": [
            "Downloading email-spam-ham-prediction.zip to /content\n",
            "\r  0% 0.00/209k [00:00<?, ?B/s]\n",
            "\r100% 209k/209k [00:00<00:00, 81.8MB/s]\n"
          ],
          "name": "stdout"
        }
      ]
    },
    {
      "cell_type": "code",
      "metadata": {
        "id": "Izg7uBww_q7p",
        "outputId": "77706e5a-bd7b-42c0-b7e5-8cf37706d66d",
        "colab": {
          "base_uri": "https://localhost:8080/",
          "height": 51
        }
      },
      "source": [
        "!unzip \\*.zip"
      ],
      "execution_count": 15,
      "outputs": [
        {
          "output_type": "stream",
          "text": [
            "Archive:  email-spam-ham-prediction.zip\n",
            "  inflating: sms_spam.csv            \n"
          ],
          "name": "stdout"
        }
      ]
    },
    {
      "cell_type": "code",
      "metadata": {
        "id": "vx-bJ4rv_x9X"
      },
      "source": [
        "#data preprocessing\n",
        "import pandas as pd\n",
        "dataset = pd.read_csv('sms_spam.csv')\n",
        "\n",
        "ts = pd.get_dummies(dataset['type'],drop_first = True)\n",
        "dataset = pd.concat([dataset,ts],axis=1)\n",
        "X = dataset['text']\n",
        "Y = dataset['spam']\n",
        "from sklearn.model_selection import train_test_split\n",
        "X_train, X_test, Y_train, Y_test = train_test_split(X,Y, test_size = 0.2, random_state = 101)\n",
        "vocab_size = 10000\n",
        "oov_tok = \"<OOV>\"\n",
        "embedding_dim = 16\n",
        "max_length = 100\n",
        "trunc_type='post'\n",
        "padding_type='post'\n",
        "import tensorflow\n",
        "from tensorflow.keras.preprocessing.text import Tokenizer\n",
        "from tensorflow.keras.preprocessing.sequence import pad_sequences\n",
        "tokenizer = Tokenizer(num_words=vocab_size, oov_token=oov_tok)\n",
        "tokenizer.fit_on_texts(X_train)\n",
        "word_index = tokenizer.word_index\n",
        "\n",
        "train_seq = tokenizer.texts_to_sequences(X_train)\n",
        "train_padded = pad_sequences(train_seq,maxlen = max_length, padding =padding_type,truncating = trunc_type)\n",
        "\n",
        "test_seq = tokenizer.texts_to_sequences(X_test)\n",
        "test_padded = pad_sequences(test_seq, maxlen=max_length, padding=padding_type, truncating = trunc_type)\n",
        "\n",
        "\n"
      ],
      "execution_count": 39,
      "outputs": []
    },
    {
      "cell_type": "code",
      "metadata": {
        "id": "IvZyDRx9LRSM"
      },
      "source": [
        ""
      ],
      "execution_count": 37,
      "outputs": []
    },
    {
      "cell_type": "code",
      "metadata": {
        "id": "GWieH7M7_yNm",
        "outputId": "04cd48f3-96a7-4a7a-b25d-6c442bc1f05e",
        "colab": {
          "base_uri": "https://localhost:8080/",
          "height": 289
        }
      },
      "source": [
        "#converting the list into numpy array \n",
        "import numpy as np\n",
        "train_padded = np.array(train_padded)\n",
        "train_label = np.array(Y_train)\n",
        "test_padded = np.array(test_padded)\n",
        "test_label = np.array(Y_test)\n",
        "\n",
        "#creating a n nlp model\n",
        "model = tensorflow.keras.Sequential([\n",
        "                                     tensorflow.keras.layers.Embedding(vocab_size,embedding_dim,input_length=max_length),\n",
        "                                     tensorflow.keras.layers.AveragePooling1D(),\n",
        "                                     tensorflow.keras.layers.Dense(24,activation='relu'),\n",
        "                                     tensorflow.keras.layers.Dense(1,activation='sigmoid')\n",
        "\n",
        "])\n",
        "model.compile(loss='binary_crossentropy',optimizer='adam', metrics=['accuracy'])\n",
        "model.summary()\n"
      ],
      "execution_count": 40,
      "outputs": [
        {
          "output_type": "stream",
          "text": [
            "Model: \"sequential_2\"\n",
            "_________________________________________________________________\n",
            "Layer (type)                 Output Shape              Param #   \n",
            "=================================================================\n",
            "embedding_2 (Embedding)      (None, 100, 16)           160000    \n",
            "_________________________________________________________________\n",
            "average_pooling1d_2 (Average (None, 50, 16)            0         \n",
            "_________________________________________________________________\n",
            "dense_4 (Dense)              (None, 50, 24)            408       \n",
            "_________________________________________________________________\n",
            "dense_5 (Dense)              (None, 50, 1)             25        \n",
            "=================================================================\n",
            "Total params: 160,433\n",
            "Trainable params: 160,433\n",
            "Non-trainable params: 0\n",
            "_________________________________________________________________\n"
          ],
          "name": "stdout"
        }
      ]
    },
    {
      "cell_type": "code",
      "metadata": {
        "id": "g0jomwKsISOy",
        "outputId": "f2d56e77-8a2e-4391-a6d6-c40f4894f28c",
        "colab": {
          "base_uri": "https://localhost:8080/",
          "height": 1000
        }
      },
      "source": [
        "num_epochs = 30\n",
        "history = model.fit(train_padded,train_label,epochs=num_epochs,validation_data=(test_padded,test_label),verbose=2)\n"
      ],
      "execution_count": 41,
      "outputs": [
        {
          "output_type": "stream",
          "text": [
            "Epoch 1/30\n",
            "140/140 - 1s - loss: 0.4864 - accuracy: 0.8638 - val_loss: 0.3485 - val_accuracy: 0.8875\n",
            "Epoch 2/30\n",
            "140/140 - 1s - loss: 0.3691 - accuracy: 0.8784 - val_loss: 0.3355 - val_accuracy: 0.8949\n",
            "Epoch 3/30\n",
            "140/140 - 1s - loss: 0.3564 - accuracy: 0.8835 - val_loss: 0.3308 - val_accuracy: 0.8953\n",
            "Epoch 4/30\n",
            "140/140 - 1s - loss: 0.3504 - accuracy: 0.8853 - val_loss: 0.3285 - val_accuracy: 0.8956\n",
            "Epoch 5/30\n",
            "140/140 - 1s - loss: 0.3459 - accuracy: 0.8863 - val_loss: 0.3260 - val_accuracy: 0.8957\n",
            "Epoch 6/30\n",
            "140/140 - 1s - loss: 0.3434 - accuracy: 0.8871 - val_loss: 0.3247 - val_accuracy: 0.8958\n",
            "Epoch 7/30\n",
            "140/140 - 1s - loss: 0.3417 - accuracy: 0.8876 - val_loss: 0.3252 - val_accuracy: 0.8960\n",
            "Epoch 8/30\n",
            "140/140 - 1s - loss: 0.3407 - accuracy: 0.8879 - val_loss: 0.3250 - val_accuracy: 0.8955\n",
            "Epoch 9/30\n",
            "140/140 - 1s - loss: 0.3397 - accuracy: 0.8879 - val_loss: 0.3248 - val_accuracy: 0.8954\n",
            "Epoch 10/30\n",
            "140/140 - 1s - loss: 0.3391 - accuracy: 0.8880 - val_loss: 0.3245 - val_accuracy: 0.8957\n",
            "Epoch 11/30\n",
            "140/140 - 1s - loss: 0.3384 - accuracy: 0.8882 - val_loss: 0.3240 - val_accuracy: 0.8963\n",
            "Epoch 12/30\n",
            "140/140 - 1s - loss: 0.3379 - accuracy: 0.8882 - val_loss: 0.3253 - val_accuracy: 0.8958\n",
            "Epoch 13/30\n",
            "140/140 - 1s - loss: 0.3373 - accuracy: 0.8883 - val_loss: 0.3246 - val_accuracy: 0.8954\n",
            "Epoch 14/30\n",
            "140/140 - 1s - loss: 0.3371 - accuracy: 0.8882 - val_loss: 0.3245 - val_accuracy: 0.8958\n",
            "Epoch 15/30\n",
            "140/140 - 1s - loss: 0.3370 - accuracy: 0.8882 - val_loss: 0.3253 - val_accuracy: 0.8955\n",
            "Epoch 16/30\n",
            "140/140 - 1s - loss: 0.3368 - accuracy: 0.8882 - val_loss: 0.3254 - val_accuracy: 0.8957\n",
            "Epoch 17/30\n",
            "140/140 - 1s - loss: 0.3367 - accuracy: 0.8883 - val_loss: 0.3252 - val_accuracy: 0.8960\n",
            "Epoch 18/30\n",
            "140/140 - 1s - loss: 0.3354 - accuracy: 0.8884 - val_loss: 0.3250 - val_accuracy: 0.8957\n",
            "Epoch 19/30\n",
            "140/140 - 1s - loss: 0.3363 - accuracy: 0.8883 - val_loss: 0.3267 - val_accuracy: 0.8956\n",
            "Epoch 20/30\n",
            "140/140 - 1s - loss: 0.3359 - accuracy: 0.8883 - val_loss: 0.3261 - val_accuracy: 0.8955\n",
            "Epoch 21/30\n",
            "140/140 - 1s - loss: 0.3357 - accuracy: 0.8883 - val_loss: 0.3273 - val_accuracy: 0.8954\n",
            "Epoch 22/30\n",
            "140/140 - 1s - loss: 0.3357 - accuracy: 0.8883 - val_loss: 0.3283 - val_accuracy: 0.8953\n",
            "Epoch 23/30\n",
            "140/140 - 1s - loss: 0.3357 - accuracy: 0.8884 - val_loss: 0.3262 - val_accuracy: 0.8956\n",
            "Epoch 24/30\n",
            "140/140 - 1s - loss: 0.3351 - accuracy: 0.8883 - val_loss: 0.3263 - val_accuracy: 0.8956\n",
            "Epoch 25/30\n",
            "140/140 - 1s - loss: 0.3352 - accuracy: 0.8884 - val_loss: 0.3281 - val_accuracy: 0.8952\n",
            "Epoch 26/30\n",
            "140/140 - 1s - loss: 0.3359 - accuracy: 0.8884 - val_loss: 0.3277 - val_accuracy: 0.8953\n",
            "Epoch 27/30\n",
            "140/140 - 1s - loss: 0.3351 - accuracy: 0.8884 - val_loss: 0.3280 - val_accuracy: 0.8953\n",
            "Epoch 28/30\n",
            "140/140 - 1s - loss: 0.3352 - accuracy: 0.8885 - val_loss: 0.3281 - val_accuracy: 0.8954\n",
            "Epoch 29/30\n",
            "140/140 - 1s - loss: 0.3349 - accuracy: 0.8884 - val_loss: 0.3282 - val_accuracy: 0.8953\n",
            "Epoch 30/30\n",
            "140/140 - 1s - loss: 0.3350 - accuracy: 0.8885 - val_loss: 0.3270 - val_accuracy: 0.8954\n"
          ],
          "name": "stdout"
        }
      ]
    },
    {
      "cell_type": "code",
      "metadata": {
        "id": "ftxRc8S2_yby",
        "outputId": "a0db58e6-59c9-4b5c-b861-6eb63ff05bd7",
        "colab": {
          "base_uri": "https://localhost:8080/",
          "height": 541
        }
      },
      "source": [
        "import matplotlib.pyplot as plt\n",
        "\n",
        "def plot_graphs(history,string):\n",
        "  plt.plot(history.history[string])\n",
        "  plt.plot(history.history['val_'+string])\n",
        "  plt.xlabel('Epochs')\n",
        "  plt.ylabel(string)\n",
        "  plt.legend([string,'val_'+string])\n",
        "  plt.show()\n",
        "plot_graphs(history,'accuracy')\n",
        "plot_graphs(history,'loss')\n"
      ],
      "execution_count": 42,
      "outputs": [
        {
          "output_type": "display_data",
          "data": {
            "image/png": "[encoded data removed]",
            "text/plain": [
              "<Figure size 432x288 with 1 Axes>"
            ]
          },
          "metadata": {
            "tags": [],
            "needs_background": "light"
          }
        },
        {
          "output_type": "display_data",
          "data": {
            "image/png": "[encoded data removed]",
            "text/plain": [
              "<Figure size 432x288 with 1 Axes>"
            ]
          },
          "metadata": {
            "tags": [],
            "needs_background": "light"
          }
        }
      ]
    }
  ]
}